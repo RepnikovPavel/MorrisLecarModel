{
 "cells": [
  {
   "cell_type": "markdown",
   "metadata": {},
   "source": [
    "$$\n",
    "C \\frac{d}{dt} V = I - g_L(V-V_L) - g_{Ca}M_{ss}(V-V_{Ca})-g_KN(V-V_K)\n",
    "$$\n",
    "\n",
    "$$\n",
    "\\frac{d}{dt} N = \\frac{1}{\\tau_{N}} (N_{ss}-N)\n",
    "$$\n",
    "\n",
    "$$\n",
    "M_{ss} = \\frac{1}{2}(1+\\tanh(\\frac{V-V_1}{V_2}))\n",
    "$$\n",
    "$$\n",
    "N_{ss} = \\frac{1}{2}(1+\\tanh(\\frac{V-V_3}{V_4}))\n",
    "$$\n",
    "$$\n",
    "\\tau_{N} = (\\phi \\cosh(\\frac{V-V_3}{2V_4}))^{-1}\n",
    "$$"
   ]
  },
  {
   "cell_type": "markdown",
   "metadata": {},
   "source": []
  }
 ],
 "metadata": {
  "language_info": {
   "name": "python"
  }
 },
 "nbformat": 4,
 "nbformat_minor": 2
}
